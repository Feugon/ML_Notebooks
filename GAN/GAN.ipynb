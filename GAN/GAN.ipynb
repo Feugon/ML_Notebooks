{
 "cells": [
  {
   "cell_type": "markdown",
   "id": "7305809d",
   "metadata": {},
   "source": [
    "# Implementing GAN\n",
    "\n",
    "This is my implementation of a Generative Adversarial Network (GAN), inspired by the original paper *\"Generative Adversarial Networks\"* by Ian Goodfellow et al., published in 2014. You can find the paper [here](https://arxiv.org/abs/1406.2661).\n",
    "\n",
    "The basic premise of GAN networks is that you train two separate models, discriminator *D* and generator *G*, and pit them against each other so they can improve together. The discriminator's objective is to correctly predict if the data comes from the true training sample or if it is a fake image. On the other hand, the goal for the generator is to confuse *D* as much as possible, which would require it to model the distribution of the data and get good at creating new data. We train the models in the same training cycle so that they both improve in sync.\n",
    "\n",
    "A note about this notebook's goals: I am not setting out to break any benchmark records here or to train a flawless model. This notebook is created for educational purposes, and hence I will not be utilizing the newer and more advanced methods in the field of GANs like WGAN or spectral normalization.\n",
    "\n",
    "\n",
    "### Libraries\n",
    "\n",
    "First, we will import the libraries we need.\n"
   ]
  },
  {
   "cell_type": "code",
   "execution_count": 15,
   "id": "5998eb72",
   "metadata": {},
   "outputs": [],
   "source": [
    "import torch \n",
    "from torch import nn\n",
    "from torchvision import datasets, transforms\n",
    "from torch.utils.data import DataLoader\n",
    "import matplotlib.pyplot as plt"
   ]
  },
  {
   "cell_type": "markdown",
   "id": "298cbf33",
   "metadata": {},
   "source": [
    "### Loading the Data\n",
    "\n",
    "We will load the MNIST handwritten digits dataset and normalize the pixel values to be in the range [-1, 1]. This promotes faster convergence and numerical stability.\n",
    "\n",
    "We are also abstaining from doing test/train split. The goal of our models has nothing to do with predicting or classifying the data, rather it is to recognize what the data looks like and create a generator that makes believable samples."
   ]
  },
  {
   "cell_type": "code",
   "execution_count": 21,
   "id": "0910f78b",
   "metadata": {},
   "outputs": [],
   "source": [
    "transform = transforms.Compose([\n",
    "    transforms.ToTensor(),\n",
    "    transforms.Normalize((0.5,), (0.5,))\n",
    "])\n",
    "\n",
    "mnist_dataset = datasets.MNIST(root='./data', train=True, download=True, transform=transform)\n",
    "batch_size = 64\n",
    "data_loader = DataLoader(mnist_dataset, batch_size=batch_size, shuffle=True)"
   ]
  },
  {
   "cell_type": "markdown",
   "id": "6dbf8266",
   "metadata": {},
   "source": [
    "Now, let's check that our data loader works."
   ]
  },
  {
   "cell_type": "code",
   "execution_count": 22,
   "id": "cefc9eb4",
   "metadata": {},
   "outputs": [
    {
     "data": {
      "image/png": "[encoded data removed]",
      "text/plain": [
       "<Figure size 640x480 with 1 Axes>"
      ]
     },
     "metadata": {},
     "output_type": "display_data"
    }
   ],
   "source": [
    "image, label = next(iter(data_loader))\n",
    "image_np = image.numpy()\n",
    "\n",
    "plt.imshow(image_np[0,0,:,:], cmap='gray')\n",
    "plt.axis('off')  \n",
    "plt.show()"
   ]
  },
  {
   "cell_type": "markdown",
   "id": "e6bb52be",
   "metadata": {},
   "source": [
    "### Create the Models\n",
    "\n",
    "We need to create the discriminative model, *D*, and the generative model, *G*. In the original paper on this topic, they were designed to be FNNs (or MLPs as they called them), so this shouldn't be too bad to implement.\n",
    "\n",
    "A few points on model design:\n",
    "- The common consensus is that the generator model should be more complex and capable than the discriminator model. The discriminator model is only learning a binary classification task, while the generator is trying to model the distribution of the data, so the two tasks are not of the same difficulty and hence should not be of the same size.\n",
    "- I played around with different regularization techniques and found that using batch normalization did help the generator's output quality and it's training stability. There are a ton of other methods we could use to enhance the model's capacities, but for the purposes of this paper this architecture is good enough.\n",
    "- *D* outputs probabilities given an input, so we utilize a sigmoid activation in the output layer.\n",
    "- *G* takes in some noise vector, which are just vectors of random numbers, and transforms it into the fake data. \n",
    "    - Since we elected to normalize the pixel values, our output needs to be in the normalized range [-1,1] which is why we utilize the $tanh$ activation funciton in *G*."
   ]
  },
  {
   "cell_type": "code",
   "execution_count": 158,
   "id": "24f44b1c",
   "metadata": {},
   "outputs": [],
   "source": [
    "class Discriminator(nn.Module):\n",
    "    def __init__(self, input_size):\n",
    "        super(Discriminator, self).__init__()\n",
    "        self.fc1 = nn.Linear(input_size, 128)\n",
    "        self.fc2 = nn.Linear(128, 64)\n",
    "        self.fc3 = nn.Linear(64, 1)\n",
    "\n",
    "        self.LeakyReLU = nn.LeakyReLU(0.2)\n",
    "        self.Sigmoid = nn.Sigmoid()\n",
    "\n",
    "    def forward(self, x):\n",
    "        # Flatten the input image\n",
    "        x = x.view(x.size(0), -1)\n",
    "        \n",
    "        x = self.LeakyReLU(self.fc1(x))\n",
    "        x = self.LeakyReLU(self.fc2(x))\n",
    "        x = self.Sigmoid(self.fc3(x))\n",
    "        \n",
    "        return x\n",
    "    \n",
    "class Generator(nn.Module):\n",
    "    def __init__(self, noise_size, output_size):\n",
    "        super(Generator, self).__init__()\n",
    "        self.fc1 = nn.Linear(noise_size, 256) \n",
    "        self.fc2 = nn.Linear(256, 512)        \n",
    "        self.fc3 = nn.Linear(512, 1024)       \n",
    "        self.fc4 = nn.Linear(1024, output_size)  \n",
    "\n",
    "        self.bn1 = nn.BatchNorm1d(256)\n",
    "        self.bn2 = nn.BatchNorm1d(512)\n",
    "        self.bn3 = nn.BatchNorm1d(1024)\n",
    "\n",
    "        self.LeakyReLU = nn.LeakyReLU(0.2)\n",
    "        self.Tanh = nn.Tanh()\n",
    "    \n",
    "    def forward(self, z):\n",
    "        z = self.LeakyReLU(self.bn1(self.fc1(z)))\n",
    "        z = self.LeakyReLU(self.bn2(self.fc2(z)))\n",
    "        z = self.LeakyReLU(self.bn3(self.fc3(z)))\n",
    "        z = self.Tanh(self.fc4(z))\n",
    "        \n",
    "        return z"
   ]
  },
  {
   "cell_type": "markdown",
   "id": "5bcdf3b6",
   "metadata": {},
   "source": [
    "### Loss Function\n",
    "\n",
    "In the paper, they talk about how the training is actually a minimax game between two players, which can be expressed as $$ \\min_G \\max_D V(D, G) = \\mathbb{E}_{x \\sim p_{\\text{data}}(x)}[\\log D(x)] + \\mathbb{E}_{z \\sim p_z(z)}[\\log(1 - D(G(z)))] $$\n",
    "Now this looks like a lot, but it actually just says something like: *D* wants to label the true data correctly, while *G* wants to trick *D*.\n",
    "- $\\underset{G}{min} \\space \\underset{D}{max} V(D, G)$ - *G* wants to minimize $V(D,G)$ while *D* wants to maximize it.\n",
    "- $\\mathbb{E}_{x \\sim p_{\\text{data}}(x)}[\\log D(x)]$ - This is the expectation over input $x$ from the true data. In order to maximize this value, *D* would need to output 1, i.e., it has to be confident in identifying true data when given it.\n",
    "- $\\mathbb{E}_{z \\sim p_z(z)}[\\log(1 - D(G(z)))]$ - This is where the competition lies. To maximize this value, *D* would have to never be confused by the generated data from *G*, i.e., $D(G(z)) = 0$. To minimize this value, *G* would have to confuse *D* into thinking that the generated data actually came from the true distribution.\n",
    "\n",
    "Overall, this is actually just a Binary Cross Entropy function: $y_i \\log(\\hat{y}_i) + (1 - y_i) \\log(1 - \\hat{y}_i)$, where the true labels ($y_i$) are whether the data came from our generative model or the MNIST dataset. This is why we will utilize BCE as loss of choice.\n",
    "\n",
    "\n",
    "### Training Method\n",
    "\n",
    "The training routine, as described in the paper, is to train the discriminator for $k$ amount of epochs then train the generative model once. This hyperparameter $k$ determines how strong the model *D* is before it has to judge *G*'s output. If you set $k$ too high then the model will get good at telling apart fake data quickly and the gradient for *G* will vanish, setting it too low could make the learning process slower as generator could have to wait until *D* becomes competent.\n",
    "\n",
    "We will use two different losses for the discrimantor: one for real data and one for fake data. While we can mix in fake data into the batches and train on those, implementing it with two seperate losses for fake and real data is just simpler.\n",
    "\n",
    "Lastly, there is some label smoothing used for the stability of the training process.\n"
   ]
  },
  {
   "cell_type": "code",
   "execution_count": null,
   "id": "2458a7c8",
   "metadata": {
    "lines_to_next_cell": 0
   },
   "outputs": [],
   "source": [
    "def train_GAN(generator, discriminator, data_loader, k=1, num_epochs=10, noise_size=100, lr=0.0001, device='cpu'):\n",
    "\n",
    "    d_losses = []\n",
    "    g_losses = []\n",
    "\n",
    "    bce_loss = nn.BCELoss().to(device)\n",
    "    optimizer_D = torch.optim.Adam(discriminator.parameters(), lr=lr)\n",
    "    optimizer_G = torch.optim.Adam(generator.parameters(), lr=lr / 2) # Lowering G's learning rate is a common practice to stabilize training\n",
    "\n",
    "    generator.to(device)\n",
    "    discriminator.to(device)\n",
    "\n",
    "    for epoch in range(num_epochs):\n",
    "        for i, (real_images, _) in enumerate(data_loader):\n",
    "            real_images = real_images.view(real_images.size(0), -1).to(device)  # convert (batch_size, 1, 28, 28) to (batch_size, 784)\n",
    "            batch_size = real_images.size(0)\n",
    "            \n",
    "            generator.eval()\n",
    "\n",
    "            # Train the discriminator\n",
    "            for _ in range(k):\n",
    "                discriminator.train()\n",
    "                optimizer_D.zero_grad()\n",
    "\n",
    "                # Train on real images\n",
    "                real_labels = (torch.ones(batch_size, 1) - 0.1 * torch.rand(batch_size, 1)).to(device)  # Adding some noise to the labels\n",
    "                outputs = discriminator(real_images)\n",
    "                d_loss_real = bce_loss(outputs, real_labels)\n",
    "\n",
    "                # Train on fake images\n",
    "                noise = torch.randn(batch_size, noise_size).to(device)\n",
    "                with torch.no_grad():\n",
    "                    fake_images = generator(noise)\n",
    "                fake_labels = (torch.zeros(batch_size, 1) + 0.1 * torch.rand(batch_size, 1)).to(device)  # Adding some noise to the labels\n",
    "                outputs = discriminator(fake_images)\n",
    "                d_loss_fake = bce_loss(outputs, fake_labels)\n",
    "\n",
    "                # Sum the losses and backpropagate\n",
    "                d_loss = (d_loss_real + d_loss_fake) / 2\n",
    "                d_losses.append(d_loss.item())\n",
    "                d_loss.backward()\n",
    "                optimizer_D.step()\n",
    "\n",
    "            # Train the generator \n",
    "            generator.train()\n",
    "            discriminator.eval()\n",
    "            # Create fake images\n",
    "            noise = torch.randn(batch_size, noise_size).to(device)\n",
    "            fake_images = generator(noise)\n",
    "            \n",
    "            optimizer_G.zero_grad()\n",
    "            outputs = discriminator(fake_images)\n",
    "            g_loss_value = bce_loss(outputs, real_labels)\n",
    "            g_losses.append(g_loss_value.item())\n",
    "            g_loss_value.backward()\n",
    "            optimizer_G.step()\n",
    "\n",
    "        print(f'Epoch [{epoch+1}/{num_epochs}], d_loss: {d_loss.item():.4f}, g_loss: {g_loss_value.item():.4f}')\n",
    "\n",
    "    return d_losses, g_losses"
   ]
  },
  {
   "cell_type": "markdown",
   "id": "26497b2a",
   "metadata": {},
   "source": [
    "### Training Curves\n",
    "\n",
    "Below is the training curve for the models that we trained. This can teach us a few things about training GANs and what we should expect:\n",
    "\n",
    "- The generator loss usually rises initially due to the learned capabilities of the discriminator.\n",
    "- Then the generator loss goes down as the generator improves, and consequently, the discriminator loss rises (not the most obvious on this graph).\n",
    "- Over time, the two models settle into a rhythm where they are in a sort of \"skill equilibrium,\" and their losses flatline as neither model can gain an advantage over the other.\n",
    "- From my experiments: noise size is not that important of a parameter, and I saw little difference when trying different values.\n",
    "\n",
    "Training GANs is a notoriously difficult thing to do and requires a lot of fine-tuning. Playing around with these hyperparameters has been the most educational part of this project, and I would encourage anyone reading this to do so too."
   ]
  },
  {
   "cell_type": "code",
   "execution_count": 157,
   "id": "2550cad0",
   "metadata": {},
   "outputs": [
    {
     "data": {
      "image/png": "[encoded data removed]",
      "text/plain": [
       "<Figure size 640x480 with 1 Axes>"
      ]
     },
     "metadata": {},
     "output_type": "display_data"
    }
   ],
   "source": [
    "input_size = 784 # 1*28*28\n",
    "noise_size = 100\n",
    "\n",
    "d = Discriminator(input_size)\n",
    "g = Generator(noise_size=noise_size, output_size=input_size)\n",
    "\n",
    "d_losses, g_losses = train_GAN(g, d, data_loader, k=1, num_epochs=200, noise_size=noise_size, lr=0.00005)\n",
    "\n",
    "plt.plot(d_losses, label='Discriminator Loss', alpha=0.5)\n",
    "plt.plot(g_losses, label='Generator Loss', alpha=0.5)\n",
    "plt.xlabel('Iterations')\n",
    "plt.ylabel('Loss')\n",
    "plt.legend()\n",
    "plt.show()"
   ]
  },
  {
   "cell_type": "markdown",
   "id": "cc5b142d",
   "metadata": {},
   "source": [
    "### Saving/Uploading\n",
    "\n",
    "In case you want to run this code yourself, here are the functions to save and upload the model."
   ]
  },
  {
   "cell_type": "code",
   "execution_count": null,
   "id": "8b8d0727",
   "metadata": {},
   "outputs": [],
   "source": [
    "def save_model(generator, discriminator, d_losses, g_losses, path='gan_model.pth'):\n",
    "    torch.save({\n",
    "        'generator_state_dict': generator.state_dict(),\n",
    "        'discriminator_state_dict': discriminator.state_dict(),\n",
    "        'd_losses': d_losses,\n",
    "        'g_losses': g_losses\n",
    "    }, path)\n",
    "\n",
    "def load_model(generator, discriminator, path='gan_model.pth'):\n",
    "    checkpoint = torch.load(path)\n",
    "    generator.load_state_dict(checkpoint['generator_state_dict'])\n",
    "    discriminator.load_state_dict(checkpoint['discriminator_state_dict'])\n",
    "    d_losses = checkpoint['d_losses']\n",
    "    g_losses = checkpoint['g_losses']\n",
    "    \n",
    "    return d_losses, g_losses\n",
    "\n",
    "# Uncomment the following lines to save and load the model\n",
    "#save_model(g, d, d_losses=d_losses, g_losses=g_losses, path='gan_model.pth')\n",
    "#d_losses, g_losses = load_model(g, d, path='gan_model.pth')"
   ]
  },
  {
   "cell_type": "markdown",
   "id": "0fc96d51",
   "metadata": {},
   "source": [
    "### Results\n",
    "\n",
    "We can now generate some random noise and see how our model did. Although not consistent, the generator has learned to create real looking hand-written numbers. The example I picked might be a little cherry-picked, but simply as a proof-of-concept this model performed well. When I was experimenting with model design I noticed that it tended to experience a lot of *mode collapse* where it only tried to represent one number well, so I am happy to see a diverse set of numbers in our outputs. \n",
    "\n",
    "Quantitatively objectifying the model's performance is much more difficult for GAN's than other types of models. We do not have a metric that tells us how accurate the model is at predicting a label or how far off it is when predicting a value. What the generator learns is a distribution of the data. It is possible to compare two distributions with different metrics like KL-divergence, but we don't have either of the distributions we only have samples. The common metric for image generation with GANs is the Frechet Inception Distance (FID) which uses a pretrained network to compare feature vectors. This falls out of the scope of this notebook and hence we will not utilize it here."
   ]
  },
  {
   "cell_type": "code",
   "execution_count": 297,
   "id": "dfe8d4cd",
   "metadata": {},
   "outputs": [
    {
     "data": {
      "image/png": "[encoded data removed]",
      "text/plain": [
       "<Figure size 640x480 with 10 Axes>"
      ]
     },
     "metadata": {},
     "output_type": "display_data"
    }
   ],
   "source": [
    "num_samples = 10\n",
    "g.eval() \n",
    "noise = torch.randn(num_samples, noise_size)\n",
    "fake_images = g(noise)\n",
    "\n",
    "# Unnormalize the pixel values from [-1, 1] back to [0, 255]\n",
    "fake_images_np = ((fake_images.view(num_samples, 28, 28).detach().numpy() + 1) * 127.5).astype('uint8')\n",
    "\n",
    "for i in range(num_samples):\n",
    "    plt.subplot(2, num_samples // 2, i+1)\n",
    "    plt.imshow(fake_images_np[i], cmap='gray')\n",
    "    plt.axis('off')\n",
    "plt.show()"
   ]
  }
 ],
 "metadata": {
  "jupytext": {
   "cell_metadata_filter": "-all",
   "formats": "ipynb,md"
  },
  "kernelspec": {
   "display_name": "base",
   "language": "python",
   "name": "python3"
  },
  "language_info": {
   "codemirror_mode": {
    "name": "ipython",
    "version": 3
   },
   "file_extension": ".py",
   "mimetype": "text/x-python",
   "name": "python",
   "nbconvert_exporter": "python",
   "pygments_lexer": "ipython3",
   "version": "3.11.5"
  }
 },
 "nbformat": 4,
 "nbformat_minor": 5
}
