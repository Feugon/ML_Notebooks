{
 "cells": [
  {
   "cell_type": "markdown",
   "id": "924c6cf0",
   "metadata": {},
   "source": [
    "# Project Overview\n",
    "In this project we will attempt to implement a basic Seq2Seq model architecture and train it to create transliterations from Russian to English. A transliteration is a form of translation where we aim to keep the pronunciation aspect across the two languages, rather than keeping the semantic meaning.  \n",
    "\n",
    "### Import Libraries\n",
    "\n",
    "We start this project by importing the common libraries that will be used throughout."
   ]
  },
  {
   "cell_type": "code",
   "execution_count": 1,
   "id": "cfac8df3",
   "metadata": {},
   "outputs": [],
   "source": [
    "import pandas as pd\n",
    "import numpy as np\n",
    "import matplotlib.pyplot as plt\n",
    "import torch\n",
    "import torch.nn as nn\n",
    "import torch.nn.functional as F\n",
    "import torch.optim as optim\n",
    "from torchvision import datasets, transforms\n",
    "from torch.utils.data import DataLoader, Dataset"
   ]
  },
  {
   "cell_type": "markdown",
   "id": "13100a4c",
   "metadata": {},
   "source": [
    "### Dataset\n",
    "\n",
    "The dataset for this project was found on [Kaggle](https://www.kaggle.com/datasets/colesuoseue/2m-rus2eng-transliterated?resource=download). It contains 2.3 million examples of Russian to English transliterations, as well as weights that represent how common a transliteration is. Our file is in a .parquet format, which stores column-wise rather than row-wise. Overall, this doesn't impact our process in any way but is something to note.\n",
    "\n",
    "We start by reading the data into a pandas table and taking a look at some of its samples."
   ]
  },
  {
   "cell_type": "code",
   "execution_count": 2,
   "id": "03ed56e8",
   "metadata": {},
   "outputs": [
    {
     "name": "stdout",
     "output_type": "stream",
     "text": [
      "  original_word transliteration  weight\n",
      "0            аа              aa     1.0\n",
      "1           ааа             aaa     1.0\n",
      "2        аагатэ          aagate     1.0\n",
      "3        аагатэ          aahate     0.3\n",
      "4        аагатэ         aagathe     0.5\n",
      "2314084\n"
     ]
    }
   ],
   "source": [
    "db = pd.read_parquet(\"rus_to_en_data.parquet\")\n",
    "print(db.head())\n",
    "print(len(db))"
   ]
  },
  {
   "cell_type": "markdown",
   "id": "3fb2cce7",
   "metadata": {},
   "source": [
    "Everything works! As we can see the original_word is the Russian word and the transliteration is the phonetic representation of it in English. Also note the weights of the transliteration. They represent how common a transliteration is and are marked on a scale of 0-1 but that does not mean that the different transliterations of the same word will sum up to 1.\n",
    "\n",
    "Next, we want to make sure to standardize the way the Russian letters get represented in Unicode. We do this via NFC normalization which makes sure we always refer to the dedicated Unicode of the character instead of the alternative where it uses a combination of Unicodes. For example the letter ё could be converted to its own unicode or it could be a combination of a unicode for e and a unicode for the two dots."
   ]
  },
  {
   "cell_type": "code",
   "execution_count": null,
   "id": "856774ae",
   "metadata": {},
   "outputs": [],
   "source": [
    "import unicodedata\n",
    "db[\"original_word\"] = db[\"original_word\"].apply(lambda x: unicodedata.normalize(\"NFC\", x.lower()))\n",
    "db[\"transliteration\"] = db[\"transliteration\"].apply(lambda x: unicodedata.normalize(\"NFC\", x.lower()))"
   ]
  },
  {
   "cell_type": "markdown",
   "id": "f2b8f993",
   "metadata": {},
   "source": [
    "Now we will create our vocabulary for the two sequences. Since we are dealing with phonetic pronunciations of words it makes sense that our tokens will be just single letters. In order to get this vocab we will get a list of all the unique letters used in our data for each language. \n",
    "\n",
    "We will also add tokens that will help us train and infer the model:\n",
    "- The &lt;pad&gt; token is used to make sure that all of the input strings in the same batch are of the same length, otherwise the encoder would not be able to work\n",
    "- The &lt;bos&gt; token stands for \"beginning of sentence\" which is necessary for teacher forcing (more on that later)\n",
    "- The &lt;eos&gt; token stands for \"end of sentence\" and is used to end the decoding process\n",
    "- The &lt;unk&gt; token is for any unknown tokens that the model might see. For our case it is likely unnecessary, but it makes the usage of our model more robust\n",
    "\n",
    "And we will also define string-to-index and index-to-string dictionaries that will be used for our encode and decode functions."
   ]
  },
  {
   "cell_type": "code",
   "execution_count": 4,
   "id": "d9a09834",
   "metadata": {},
   "outputs": [
    {
     "name": "stdout",
     "output_type": "stream",
     "text": [
      "English Vocab Size: 25\n",
      "Russian Vocab Size: 33\n",
      "a 4\n",
      "а 4\n"
     ]
    }
   ],
   "source": [
    "russian_vocab = list(set(\"\".join(db[\"original_word\"])))\n",
    "english_vocab = list(set(\"\".join(db[\"transliteration\"])))\n",
    "\n",
    "print(f\"English Vocab Size: {len(english_vocab)}\")\n",
    "print(f\"Russian Vocab Size: {len(russian_vocab)}\")\n",
    "\n",
    "russian_vocab = [\"<pad>\", \"<bos>\", \"<eos>\", \"<unk>\"] + sorted(russian_vocab)\n",
    "english_vocab = [\"<pad>\", \"<bos>\", \"<eos>\", \"<unk>\"] + sorted(english_vocab)\n",
    "PAD_ID = 0; BOS_ID = 1; EOS_ID = 2; UNK_ID = 3\n",
    "\n",
    "# stoi = string to index, itos = index to string\n",
    "russian_stoi = {char: idx for idx, char in enumerate(russian_vocab)}\n",
    "russian_itos = {idx: char for char, idx in russian_stoi.items()}\n",
    "english_stoi = {char: idx for idx, char in enumerate(english_vocab)}\n",
    "english_itos = {idx: char for char, idx in english_stoi.items()}\n",
    "\n",
    "# sanity check\n",
    "print(english_itos[4], english_stoi[\"a\"])\n",
    "print(russian_itos[4], russian_stoi[\"а\"])\n"
   ]
  },
  {
   "cell_type": "markdown",
   "id": "fcb83f47",
   "metadata": {},
   "source": [
    "This is a bit of a surprise. Our English vocab is only 25 letters while there are 26 letters in the Latin alphabet. Taking a closer look you can see that the letter *q* is missing from the list of unique characters. If you speak Russian this might not be so surprising to you, it is a sound that is unlike any of the Russian pronunciations. When first thinking about how to set the vocab lengths I thought to just set them to the respective alphabet lengths. Now we can see why that would have been slightly inaccurate to do.\n",
    "\n",
    "Next, we will create our encode function that will convert the string of characters into a vector of character IDs and the decode function that would undo that change."
   ]
  },
  {
   "cell_type": "code",
   "execution_count": 162,
   "id": "f46f8d67",
   "metadata": {},
   "outputs": [
    {
     "name": "stdout",
     "output_type": "stream",
     "text": [
      "[1, 19, 20, 12, 6, 9, 22, 2]\n",
      "<bos>привет<eos>\n"
     ]
    }
   ],
   "source": [
    "def encode(text, stoi):\n",
    "    tokenized = [stoi[\"<bos>\"]] + [stoi.get(char, stoi[\"<unk>\"]) for char in text] + [stoi[\"<eos>\"]]\n",
    "    return tokenized\n",
    "\n",
    "def decode(tokens, itos):\n",
    "    return \"\".join([itos.get(token, \"<unk>\") for token in tokens if itos[token] != \"<pad>\"])\n",
    "\n",
    "print(encode(\"привет\", russian_stoi))  \n",
    "print(decode([1, 19, 20, 12, 6, 9, 22, 2], russian_itos))  "
   ]
  },
  {
   "cell_type": "markdown",
   "id": "5542fccd",
   "metadata": {},
   "source": [
    "Nice and easy. Next is a train/val/test split of our data. There is an important nuance that we have to be aware of to not mess up our training. There are duplicate words in the dataset with different weights. To avoid having some of the train words in the test set we make sure that all the duplicates stay in the same split. We also shuffle the data to prevent the model from learning the order of the data. "
   ]
  },
  {
   "cell_type": "code",
   "execution_count": null,
   "id": "146470f2",
   "metadata": {},
   "outputs": [
    {
     "name": "stdout",
     "output_type": "stream",
     "text": [
      "  original_word transliteration  weight\n",
      "0  обговоренный   obhouoryennyy    0.09\n",
      "1      очернять      ochyernyat    0.70\n",
      "2      фатализм       fathalizm    0.50\n",
      "3   гандбольный      handbolnii    0.19\n",
      "4    задушенный    zaduschennyy    0.29\n",
      "Train size: 1849957, Validation size: 231823, Test size: 232304\n"
     ]
    }
   ],
   "source": [
    "db = db.sample(frac=1,random_state=123).reset_index(drop=True)\n",
    "print(db.head())\n",
    "\n",
    "uniq_src = db[\"original_word\"].drop_duplicates().sample(frac=1, random_state=123).tolist()\n",
    "\n",
    "n = len(uniq_src)\n",
    "n_train = int(n * 0.8)\n",
    "n_val   = int(n * 0.1)\n",
    "train_src = set(uniq_src[:n_train])\n",
    "val_src   = set(uniq_src[n_train:n_train+n_val])\n",
    "test_src  = set(uniq_src[n_train+n_val:])\n",
    "\n",
    "train_data = db[db[\"original_word\"].isin(train_src)].reset_index(drop=True)\n",
    "val_data   = db[db[\"original_word\"].isin(val_src)].reset_index(drop=True)\n",
    "test_data  = db[db[\"original_word\"].isin(test_src)].reset_index(drop=True)\n",
    "\n",
    "print(f\"Train size: {len(train_data)}, Validation size: {len(val_data)}, Test size: {len(test_data)}\")"
   ]
  },
  {
   "cell_type": "markdown",
   "id": "90a839dc",
   "metadata": {},
   "source": [
    "Now we get to creating a `DataLoader` class. Before that, we need to create a `Dataset` class, which is rather simple. The only note I have about this process is that we do encode the words and convert the resulting vectors into tensors.\n",
    "\n",
    "Here come the nuances that you don't learn from reading the textbook. Although the overall architecture of a Seq2Seq model is flexible with the amount of time steps in a sequence, or in our case letters in a word, they don't behave as nicely with batches of variable input lengths. The layers that we will utilize for our model all expect box-shaped tensors, but if some input words are longer than others then we might not have that. That is why we introduced the `<pad>` token. This allows us to pad the batches to make sure that all vectors are of the same length. In order to implement this feature we use a collate function, which are functions that handle how to format the batches cleanly. Fortunately for us PyTorch has a function to handle the padding for us and we don't need to sweat over the implementation details.\n",
    "\n",
    "After we define the collate function we can finally create our `DataLoader` class and get a step closer to training our model."
   ]
  },
  {
   "cell_type": "code",
   "execution_count": null,
   "id": "34896405",
   "metadata": {},
   "outputs": [],
   "source": [
    "class s2sDataset(Dataset):\n",
    "    def __init__(self,db, rus_stoi, eng_stoi):\n",
    "        self.db = db\n",
    "        self.rus_stoi = rus_stoi\n",
    "        self.eng_stoi = eng_stoi\n",
    "        self.rus = db[\"original_word\"].tolist()\n",
    "        self.eng = db[\"transliteration\"].tolist()\n",
    "    \n",
    "    def __len__(self):\n",
    "        return len(self.db)\n",
    "    \n",
    "    def __getitem__(self, idx):\n",
    "        rus_text = self.rus[idx]\n",
    "        eng_text = self.eng[idx]\n",
    "        \n",
    "        rus_encoded = encode(rus_text, self.rus_stoi)\n",
    "        eng_encoded = encode(eng_text, self.eng_stoi)\n",
    "\n",
    "        return {\n",
    "            \"rus\": torch.tensor(rus_encoded, dtype=torch.long),\n",
    "            \"eng\": torch.tensor(eng_encoded, dtype=torch.long)\n",
    "        }\n",
    "\n",
    "def make_collate_fn(PAD_ID = 0):\n",
    "    def collate_fn(batch):\n",
    "        rus_batch = [item[\"rus\"] for item in batch]\n",
    "        eng_batch = [item[\"eng\"] for item in batch]\n",
    "        \n",
    "        rus_padded = nn.utils.rnn.pad_sequence(rus_batch, batch_first=True, padding_value=PAD_ID)\n",
    "        eng_padded = nn.utils.rnn.pad_sequence(eng_batch, batch_first=True, padding_value=PAD_ID)\n",
    "        # compute true lengths (exclude padding)\n",
    "        src_len = (rus_padded != PAD_ID).sum(dim=1)\n",
    "        return {\n",
    "            \"rus\": rus_padded,\n",
    "            \"eng\": eng_padded,\n",
    "            \"src_len\": src_len\n",
    "        }\n",
    "    \n",
    "    return collate_fn\n",
    "\n",
    "train_dataset = s2sDataset(train_data, russian_stoi, english_stoi)\n",
    "val_dataset = s2sDataset(val_data, russian_stoi, english_stoi)\n",
    "test_dataset = s2sDataset(test_data, russian_stoi, english_stoi)\n",
    "\n",
    "train_loader = DataLoader(train_dataset, batch_size=256, shuffle=True,  collate_fn=make_collate_fn(PAD_ID))\n",
    "val_loader   = DataLoader(val_dataset,   batch_size=256, shuffle=False, collate_fn=make_collate_fn(PAD_ID))\n",
    "test_loader  = DataLoader(test_dataset,  batch_size=256, shuffle=False, collate_fn=make_collate_fn(PAD_ID))"
   ]
  },
  {
   "cell_type": "markdown",
   "id": "9c5f6a17",
   "metadata": {},
   "source": [
    "Let's see some examples of our data."
   ]
  },
  {
   "cell_type": "code",
   "execution_count": 8,
   "id": "38c8b96a",
   "metadata": {},
   "outputs": [
    {
     "name": "stdout",
     "output_type": "stream",
     "text": [
      "torch.Size([256, 18]) torch.Size([256, 23])\n",
      "tensor([ 1, 23, 17, 12,  6,  9, 20, 21,  4, 15,  2,  0,  0,  0,  0,  0,  0,  0]) tensor([ 1, 23, 17, 12, 23,  8, 20, 21,  4, 15,  2,  0,  0,  0,  0,  0,  0,  0,\n",
      "         0,  0,  0,  0,  0])\n",
      "<bos>универсал<eos>\n",
      "<bos>uniuersal<eos>\n"
     ]
    }
   ],
   "source": [
    "batch_example = next(iter(train_loader))\n",
    "print(batch_example[\"rus\"].shape, batch_example[\"eng\"].shape)\n",
    "print(batch_example[\"rus\"][0], batch_example[\"eng\"][0])\n",
    "print(decode(batch_example[\"rus\"][0].tolist(), russian_itos))\n",
    "print(decode(batch_example[\"eng\"][0].tolist(), english_itos))"
   ]
  },
  {
   "cell_type": "markdown",
   "id": "4ee3ae90",
   "metadata": {},
   "source": [
    "### Model Architecture\n",
    "\n",
    "We are now ready to create our model! For this task we will use a rather bare-bones version of Seq2Seq. For this project we will aim for a mix of simplicity and performance. This is partly because of my resource constraints in terms of compute power and because this notebook is meant to be a semi-educational guide on how these models work rather than a tutorial for creating the best transliteration model possible. \n",
    "\n",
    "Here are the details of the model architecture:\n",
    "- Two embedding layers since we have two different vocabularies, we also use a `padding_idx` parameter so the `<pad>` token never influences any of the gradients\n",
    "- We use a basic encoder-decoder design \n",
    "    - Both of them use GRUs, a form of RNNs that help with vanishing gradient issues that RNNs are notorious for\n",
    "- Our output layer is a linear layer that takes the hidden state of the decoder and converts it to logits that determine which letter is the most likely to appear next\n",
    "- We shift the target sequence one to the right in order to facilitate training\n",
    "- We use a simple dot-product cross attention mechanism. This is not needed for our task because the only relevant context are the letters around the current one, but I thought it would be educational to implement it as well"
   ]
  },
  {
   "cell_type": "code",
   "execution_count": null,
   "id": "5296f59d",
   "metadata": {},
   "outputs": [],
   "source": [
    "from torch.nn.utils.rnn import pack_padded_sequence, pad_packed_sequence\n",
    "\n",
    "class Seq2SeqModel(nn.Module):\n",
    "    def __init__(self, src_vocab_size, trg_vocab_size, emb_dim, hidden_dim, padding_idx=0, n_layers=1):\n",
    "        super(Seq2SeqModel, self).__init__()\n",
    "        self.src_embedding = nn.Embedding(src_vocab_size, emb_dim, padding_idx=padding_idx)\n",
    "        self.trg_embedding = nn.Embedding(trg_vocab_size, emb_dim, padding_idx=padding_idx)\n",
    "        self.encoder = nn.GRU(emb_dim, hidden_dim, n_layers, batch_first=True)\n",
    "        self.decoder = nn.GRU(emb_dim, hidden_dim, n_layers, batch_first=True)\n",
    "        self.output  = nn.Linear(hidden_dim, trg_vocab_size)\n",
    "        self.pad_id  = padding_idx \n",
    "\n",
    "    def forward(self, src, trg, src_len):\n",
    "        src_emb = self.src_embedding(src)                    \n",
    "        packed = pack_padded_sequence(src_emb, src_len.cpu(), batch_first=True, enforce_sorted=False)\n",
    "        enc_out_packed, enc_last_hidden = self.encoder(packed)\n",
    "        enc_out, _ = pad_packed_sequence(enc_out_packed, batch_first=True)  \n",
    "\n",
    "        trg_emb = self.trg_embedding(trg[:, :-1])            \n",
    "        dec_output, _ = self.decoder(trg_emb, enc_last_hidden)  \n",
    "\n",
    "        logits = self.output(dec_output)                     \n",
    "        return logits, enc_out, enc_last_hidden"
   ]
  },
  {
   "cell_type": "markdown",
   "id": "d4034f24",
   "metadata": {},
   "source": [
    "### Training\n",
    "Now we can define our training function. There are some nuances with padding, which as I learned through this project is a common thing for NLP training, but fortunately for us PyTorch abstracts most of these issues     away. \n",
    "\n",
    "We do a little extra work here to represent the loss in the best way possible and I'll explain how. The `CrossEntropyLoss` function does return the average token loss per batch which excludes any padding. But each batch could have a different total amount of tokens in them which would make our loss be a tad innacurate of a representation. For example, if we had two batches and their respective token amounts were 100 and 50 using the pure score from `CrossEntropyLoss` would just result in an unweighted average. What we do in the loop is make sure to scale the batch weights accordingly to the amount of tokens in them.\n",
    "\n",
    "We also utilized a validation set here to monitor the bias-variance tradeoffs and label smoothing to prevent overffiting."
   ]
  },
  {
   "cell_type": "code",
   "execution_count": 10,
   "id": "6bbbc7bf",
   "metadata": {},
   "outputs": [],
   "source": [
    "def train(model, train_loader, val_loader, pad_id, optimizer, device, num_epochs=10):\n",
    "\n",
    "    train_loss_history = []\n",
    "    val_loss_history = []\n",
    "    criterion = nn.CrossEntropyLoss(ignore_index=pad_id, label_smoothing=0.1)\n",
    "\n",
    "    for epoch in range(num_epochs):\n",
    "        # -------- training loop --------\n",
    "        model.train()\n",
    "        token_loss_sum, token_count = 0.0, 0\n",
    "\n",
    "        for batch in train_loader:\n",
    "            src = batch[\"rus\"].to(device)\n",
    "            trg = batch[\"eng\"].to(device)\n",
    "            src_len = batch[\"src_len\"].to(device)\n",
    "\n",
    "            optimizer.zero_grad()\n",
    "            logits, _, _ = model(src, trg, src_len=src_len)\n",
    "            loss = criterion(\n",
    "                logits.view(-1, logits.size(-1)),\n",
    "                trg[:, 1:].reshape(-1)\n",
    "            )\n",
    "            loss.backward()\n",
    "            optimizer.step()\n",
    "\n",
    "            with torch.no_grad():\n",
    "                valid = (trg[:, 1:] != pad_id).sum().item()\n",
    "                token_loss_sum += loss.item() * valid\n",
    "                token_count += valid\n",
    "\n",
    "        avg_token_loss = token_loss_sum / max(1, token_count)\n",
    "        train_loss_history.append(avg_token_loss)\n",
    "\n",
    "        # -------- validation loop --------\n",
    "        model.eval()\n",
    "        val_loss_sum, val_token_count = 0.0, 0\n",
    "        with torch.no_grad():\n",
    "            for batch in val_loader:\n",
    "                src = batch[\"rus\"].to(device)\n",
    "                trg = batch[\"eng\"].to(device)\n",
    "                src_len = batch[\"src_len\"].to(device)\n",
    "\n",
    "                logits, _, _ = model(src, trg, src_len=src_len)\n",
    "                val_loss = criterion(\n",
    "                    logits.view(-1, logits.size(-1)),\n",
    "                    trg[:, 1:].reshape(-1)\n",
    "                )\n",
    "                valid = (trg[:, 1:] != pad_id).sum().item()\n",
    "                val_loss_sum += val_loss.item() * valid\n",
    "                val_token_count += valid\n",
    "\n",
    "        avg_val_loss = val_loss_sum / max(1, val_token_count)\n",
    "        val_loss_history.append(avg_val_loss)\n",
    "\n",
    "        print(f\"Epoch {epoch+1}/{num_epochs}, \"\n",
    "              f\"train_loss={avg_token_loss:.4f}, \"\n",
    "              f\"val_loss={avg_val_loss:.4f}\")\n",
    "\n",
    "    return train_loss_history, val_loss_history"
   ]
  },
  {
   "cell_type": "markdown",
   "id": "d237aabc",
   "metadata": {},
   "source": [
    "### Inference/Decoding\n",
    "\n",
    "Our model learns the probabilities of the next tokens given the currently selected one, we can express this as $p(x_T | x_{t < T})$ where $x_T$ is the token we are trying to generate. Given these probabilities we need to select tokens until we hit an `<eos>` one. There are multiple ways to do this, one of the most common one being beam search, but for our case greedy decoding seems adequate.\n",
    "\n",
    "Greedy decoding is where we simply choose the most likely token at every step of the way and add it to our output. This does not necessarily produce the most likely sequence. We could have a scenario where the most likely sequence actually starts with the second most likely token but because it \"flows\" better with the next tokens the entire sequence is actually a more probable sample compared to any greedy-based algorithms. However, for our purposes the transliterations from a Russian letter to an English one is close to a one-to-one mapping in most scenarios and therefore picking the most probable transliteration is often good enough. Also this is by far the fastest algorithm, the prominent beam search is about *k* times slower where *k* is the number of paths we keep at each timestep.\n",
    "\n",
    "As a side note, I did try using beam search and found that the difference in the metric that we use to judge our model was about 0.4% in favor of beam search, but it was significantly slower as we predicted."
   ]
  },
  {
   "cell_type": "code",
   "execution_count": null,
   "id": "fed3550c",
   "metadata": {},
   "outputs": [],
   "source": [
    "@torch.no_grad()\n",
    "def greedy_decode(model, src, bos_id, eos_id, device, max_length=20, src_len=None):\n",
    "    model.eval()\n",
    "    pad_id = getattr(model, \"pad_id\", 0)\n",
    "\n",
    "    src = src.to(device)\n",
    "    if src_len is None:\n",
    "        src_len = (src != pad_id).sum(dim=1)\n",
    "\n",
    "    src_emb = model.src_embedding(src)\n",
    "    packed = pack_padded_sequence(src_emb, src_len.cpu(), batch_first=True, enforce_sorted=False)\n",
    "    enc_out_packed, enc_last_hidden = model.encoder(packed)\n",
    "    enc_out, _ = pad_packed_sequence(enc_out_packed, batch_first=True)  \n",
    "\n",
    "    batch_size = src.size(0)\n",
    "    trg_input = torch.full((batch_size, 1), bos_id, dtype=torch.long, device=device)\n",
    "    trg_output = [] \n",
    "\n",
    "    dec_hidden = enc_last_hidden\n",
    "    finished = torch.zeros(batch_size, dtype=torch.bool, device=device)\n",
    "\n",
    "    for _ in range(max_length):\n",
    "        trg_emb = model.trg_embedding(trg_input)              \n",
    "        dec_out, dec_hidden = model.decoder(trg_emb, dec_hidden)  \n",
    "\n",
    "        scores = torch.bmm(dec_out, enc_out.transpose(1, 2))\n",
    "        if pad_id is not None:\n",
    "            enc_pad_mask = (src == pad_id).unsqueeze(1)       \n",
    "            scores = scores.masked_fill(enc_pad_mask, -1e9)\n",
    "        attn_weights = F.softmax(scores, dim=-1)              \n",
    "        context = torch.bmm(attn_weights, enc_out)            \n",
    "        logits = model.output(dec_out)                        \n",
    "\n",
    "        next_token = logits.argmax(dim=-1)                    \n",
    "        trg_output.append(next_token)\n",
    "\n",
    "        finished = finished | (next_token.squeeze(1) == eos_id)\n",
    "        next_token = torch.where(\n",
    "            finished.unsqueeze(1),\n",
    "            torch.full_like(next_token, eos_id),\n",
    "            next_token\n",
    "        )\n",
    "        trg_input = next_token\n",
    "\n",
    "        if finished.all():\n",
    "            break\n",
    "\n",
    "    return torch.cat(trg_output, dim=1)"
   ]
  },
  {
   "cell_type": "markdown",
   "id": "5980e829",
   "metadata": {},
   "source": [
    "### Evals\n",
    "\n",
    "We will use something called character error rate. This uses edit distance (also known as Levenshtein distance) to calculate how far off two strings are. It assigns 1 point to every change we need to make in order to make the two strings identical; a change can be change of letters, insertion, and deletion. The distance alone doesn't tell us much, but if we express it as a percentage relative to the entire string lengths we can get an estimate of what percentage of characters need edits, lower is better."
   ]
  },
  {
   "cell_type": "code",
   "execution_count": null,
   "id": "b7ddcdff",
   "metadata": {},
   "outputs": [],
   "source": [
    "from torchmetrics.functional.text import edit_distance\n",
    "\n",
    "def character_error_rate(preds, targets, itos, pad_id, bos_id, eos_id):\n",
    "    def to_str(seq):\n",
    "        chars = []\n",
    "        for t in seq:\n",
    "            if t in (pad_id, bos_id):\n",
    "                continue\n",
    "            if t == eos_id:\n",
    "                break\n",
    "            chars.append(itos[t])\n",
    "        return \"\".join(chars)\n",
    "\n",
    "    pred_strs   = [to_str(p) for p in preds]\n",
    "    target_strs = [to_str(t) for t in targets]\n",
    "\n",
    "    total_cer, total_count = 0.0, 0\n",
    "    for p, g in zip(pred_strs, target_strs):\n",
    "        dist = edit_distance(p, g)\n",
    "        cer = dist / max(len(g), 1)  \n",
    "        total_cer += cer\n",
    "        total_count += 1\n",
    "\n",
    "    return total_cer / max(1, total_count)\n",
    "\n",
    "\n",
    "def test_model(model, test_loader, device, itos, pad_id, bos_id, eos_id):\n",
    "    model_device = next(model.parameters()).device\n",
    "    model.eval()\n",
    "    total_cer, total_count = 0.0, 0\n",
    "\n",
    "    with torch.no_grad():\n",
    "        for batch in test_loader:\n",
    "            src = batch[\"rus\"].to(model_device)\n",
    "            trg = batch[\"eng\"].to(model_device)\n",
    "\n",
    "            output = greedy_decode(model, src, bos_id, eos_id, model_device)\n",
    "\n",
    "            cer = character_error_rate(\n",
    "                output.cpu().tolist(),\n",
    "                trg[:, 1:].cpu().tolist(),\n",
    "                itos, pad_id, bos_id, eos_id\n",
    "            )\n",
    "\n",
    "            total_cer += cer * src.size(0)\n",
    "            total_count += src.size(0)\n",
    "\n",
    "    return total_cer / max(1, total_count)"
   ]
  },
  {
   "cell_type": "markdown",
   "id": "fddb5f8e",
   "metadata": {},
   "source": [
    "### Loading/Saving the Model\n",
    "\n",
    "Training this model was rather compute heavy for my standards and my Mac was not up to the task. Instead I trained it on my 1660 ti GPU, and it actually performed suprisingly well. I measured the difference between the training time of a single epoch and it was 4 vs. 40 minutes. The code to load or save models is here.\n",
    "\n",
    "I used embedding sizes of 128 and hidden layer dimensions of 512. These were largely chosen arbirtrarily. "
   ]
  },
  {
   "cell_type": "code",
   "execution_count": 155,
   "id": "018f806c",
   "metadata": {},
   "outputs": [
    {
     "name": "stdout",
     "output_type": "stream",
     "text": [
      "Model and loss history loaded!\n"
     ]
    },
    {
     "data": {
      "image/png": "[encoded data removed]",
      "text/plain": [
       "<Figure size 640x480 with 1 Axes>"
      ]
     },
     "metadata": {},
     "output_type": "display_data"
    }
   ],
   "source": [
    "import pickle\n",
    "\n",
    "def save_model_and_loss_history(model, train_loss, val_loss):\n",
    "    torch.save(model.state_dict(), 'model.pth')\n",
    "    loss_history = {\n",
    "        'train_loss': train_loss,   \n",
    "        'val_loss': val_loss        \n",
    "    }\n",
    "\n",
    "    with open('loss_history.pkl', 'wb') as f:\n",
    "        pickle.dump(loss_history, f)\n",
    "\n",
    "def load_model_and_loss_history(model_path='model.pth', loss_history_path='loss_history.pkl', device= \"cpu\"):\n",
    "   \n",
    "    model = Seq2SeqModel(\n",
    "        src_vocab_size=len(russian_vocab),\n",
    "        trg_vocab_size=len(english_vocab),\n",
    "        emb_dim=128,\n",
    "        hidden_dim=512,\n",
    "        padding_idx=PAD_ID\n",
    "    )\n",
    "\n",
    "    state = torch.load(model_path, map_location=device)\n",
    "    model.load_state_dict(state, strict=False)\n",
    "    model.to(device)\n",
    "    model.eval()\n",
    "\n",
    "    with open(loss_history_path, 'rb') as f:\n",
    "        loss_history = pickle.load(f)\n",
    "\n",
    "    return model, loss_history\n",
    "\n",
    "\n",
    "new_model, loss_history = load_model_and_loss_history()\n",
    "print(\"Model and loss history loaded!\")\n",
    "\n",
    "plt.plot(loss_history['train_loss'], label='Train Loss')\n",
    "plt.plot(loss_history['val_loss'], label='Validation Loss')\n",
    "plt.xlabel('Epochs')\n",
    "plt.ylabel('Loss')\n",
    "plt.legend()\n",
    "plt.show()"
   ]
  },
  {
   "cell_type": "markdown",
   "id": "43826344",
   "metadata": {},
   "source": [
    "Here is the code I actually used to train the model"
   ]
  },
  {
   "cell_type": "code",
   "execution_count": null,
   "id": "993b58b8",
   "metadata": {},
   "outputs": [
    {
     "data": {
      "text/plain": [
       "'\\n\\n\\n'"
      ]
     },
     "execution_count": 150,
     "metadata": {},
     "output_type": "execute_result"
    }
   ],
   "source": [
    "device = \"cuda\" if torch.cuda.is_available() else \"cpu\"\n",
    "\n",
    "new_model = Seq2SeqModel(\n",
    "    src_vocab_size=len(russian_vocab),\n",
    "    trg_vocab_size=len(english_vocab),\n",
    "    emb_dim=128,\n",
    "    hidden_dim=512,\n",
    "    padding_idx=PAD_ID\n",
    ").to(device)\n",
    "optimizer = optim.Adam(new_model.parameters(), lr=0.001)\n",
    "new_model.to(device) \n",
    "train_loss, val_loss = train(new_model, train_loader, val_loader, PAD_ID, optimizer, device, num_epochs=10 )\n",
    "save_model_and_loss_history(new_model, train_loss, val_loss)"
   ]
  },
  {
   "cell_type": "markdown",
   "id": "4dbfd7f4",
   "metadata": {},
   "source": [
    "### Performance Review\n",
    "\n",
    "Using the testing function we defined earlier we can see that the model has a CER of 19.5%. This intuitively means that for a string with 10 characters there are on average about 2 fixes that we can make.\n",
    "\n",
    "This isn't great. For a task like transliteration, even from differenly sounding languages, we are learning a mapping that is nearly one-to-one. There are of course nuances involved, but we should really be in single digits for our CER. As the intention of this project was to simply see how Seq2Seq are implemented and not create the best transliteration model I will not be trying to optimize the model architecture or hyperparameters. In all honestsy, after playing around with different inputs I couldn't see why the model performance was so low, in my eyes it was actually pretty good to use. I will however note a couple of things that I thing could help for this task:\n",
    "- The low hanging fruit is that we can up the parameter count and regularize accordingly, but that's lazy and inneficient\n",
    "- I suspect that we don't actually need to use RNN's in the decoder, I think that the context window for characters is really small and instead a 1D CNN could be more efficient and effective\n",
    "- The data does include weights of how likely a transliteration is. So far we ignored this, but I think modifying the loss function to include those weights could be simple and helpful."
   ]
  },
  {
   "cell_type": "code",
   "execution_count": 157,
   "id": "ed8a61cb",
   "metadata": {},
   "outputs": [
    {
     "name": "stdout",
     "output_type": "stream",
     "text": [
      "tensor(0.1945)\n"
     ]
    }
   ],
   "source": [
    "device = torch.device(\"cuda\" if torch.cuda.is_available() else \"cpu\")\n",
    "print(test_model(new_model, test_loader, device, english_itos, PAD_ID, BOS_ID, EOS_ID))"
   ]
  },
  {
   "cell_type": "markdown",
   "id": "336aaeec",
   "metadata": {},
   "source": [
    "### Using the Model\n",
    "\n",
    "The code below lets us use the model on our wanted input. "
   ]
  },
  {
   "cell_type": "code",
   "execution_count": 161,
   "id": "0d5ea587",
   "metadata": {},
   "outputs": [],
   "source": [
    "def transliterate(russian_text, model, device=device):\n",
    "    \"\"\"Transliterate a Russian string to English using the trained model.\"\"\"\n",
    "\n",
    "    model.eval()\n",
    "    normalized_text = unicodedata.normalize(\"NFC\", russian_text.lower())\n",
    "    encoded_text = encode(normalized_text, russian_stoi)\n",
    "\n",
    "    cpu_src = torch.tensor([encoded_text], dtype=torch.long)            \n",
    "    input_tensor = cpu_src.to(device)\n",
    "\n",
    "    with torch.no_grad():\n",
    "        output = greedy_decode(model, input_tensor, BOS_ID, EOS_ID, device)\n",
    "\n",
    "    if isinstance(output, torch.Tensor):\n",
    "        out_ids = output[0].detach().cpu().tolist()\n",
    "    else:\n",
    "        out_ids = list(output[0])\n",
    "\n",
    "    transliteration = decode(out_ids, english_itos)\n",
    "    transliteration = transliteration.replace(\"<eos>\", \"\").strip()\n",
    "\n",
    "    print(f\"Russian: {russian_text}\")\n",
    "    print(f\"Transliteration: {transliteration}\")\n",
    "    print(\"=\" * 50)\n",
    "    return transliteration\n",
    "\n",
    "\n",
    "def test_transliterations(words, model, device=device):\n",
    "    for w in words:\n",
    "        transliterate(w, model, device)\n",
    "\n"
   ]
  },
  {
   "cell_type": "markdown",
   "id": "933b1d75",
   "metadata": {},
   "source": [
    "### Example Usage\n",
    "\n",
    "- Russian: Спасибо, что прочитали этот блокнот. Ваш друг, Артём.\n",
    "- English: Thank you for reading this notebook. Your friend, Artem\n",
    "- Google Translate's Transliteration: Spasibo, chto prochitali etot bloknot. Vash drug, Artom.\n",
    "- Our Transliteration: Spacibo, tchtho prochitali etoth bloknoth. Uash drooh, Arthiom.\n",
    "\n",
    "I will say that I am suprised at how poor Google Translate's transliteration is. I would think that this task is something that would be trivial for them. For example, my model is actually arguably closer to the transliteration of the word friend which should be \"droog\" as well as my first name which should be \"Artyom\". Overall, my model is ok and I can see that it is very close to the proper conversion, it has learned to use the letter \"h\" too much for some reason. This could be a fun project to come back to and try to get a more accurate performance.\n",
    "\n",
    "Спасибо, что прочитали этот блокнот. Ваш друг, Артём."
   ]
  },
  {
   "cell_type": "code",
   "execution_count": null,
   "id": "be4491bb",
   "metadata": {},
   "outputs": [
    {
     "name": "stdout",
     "output_type": "stream",
     "text": [
      "Russian: спасибо\n",
      "Transliteration: spacibo\n",
      "==================================================\n",
      "Russian: что\n",
      "Transliteration: tchtho\n",
      "==================================================\n",
      "Russian: прочитали\n",
      "Transliteration: prochitali\n",
      "==================================================\n",
      "Russian: этот\n",
      "Transliteration: etoth\n",
      "==================================================\n",
      "Russian: блокнот\n",
      "Transliteration: bloknoth\n",
      "==================================================\n",
      "Russian: ваш\n",
      "Transliteration: uash\n",
      "==================================================\n",
      "Russian: друг\n",
      "Transliteration: drooh\n",
      "==================================================\n",
      "Russian: артём\n",
      "Transliteration: arthiom\n",
      "==================================================\n"
     ]
    }
   ],
   "source": [
    "test_transliterations([\"спасибо\", \"что\", \"прочитали\", \"этот\", \"блокнот\", \"ваш\", \"друг\", \"артём\"], model=new_model)"
   ]
  }
 ],
 "metadata": {
  "kernelspec": {
   "display_name": "Python 3",
   "language": "python",
   "name": "python3"
  },
  "language_info": {
   "codemirror_mode": {
    "name": "ipython",
    "version": 3
   },
   "file_extension": ".py",
   "mimetype": "text/x-python",
   "name": "python",
   "nbconvert_exporter": "python",
   "pygments_lexer": "ipython3",
   "version": "undefined.undefined.undefined"
  }
 },
 "nbformat": 4,
 "nbformat_minor": 5
}
