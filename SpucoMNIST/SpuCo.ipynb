{
 "cells": [
  {
   "cell_type": "markdown",
   "id": "da43cdc9",
   "metadata": {},
   "source": [
    "# Notebook Overview\n",
    "\n",
    "This notebook is a coding assessment for a lab that I am applying to. The task is to implement a training method called **GEORGE** which is described in this [paper](https://arxiv.org/abs/2011.12945). We will utilize the SpuCo library which can be found [here](https://spuco.readthedocs.io/en/latest/index.html).\n",
    "\n",
    "The **GEORGE** framework consists mainly of two steps:\n",
    "1. Estimate the subclasses of a *superclass* using clustering techniques (UMAP, K-means)\n",
    "2. Train a model using the subclasses we found (GDRO loss)\n",
    "\n",
    "This allows us to create a model that has elevated performance on the worst performing class/subclass. In the paper, they mention that this could be particularly important in the medical field."
   ]
  },
  {
   "cell_type": "markdown",
   "id": "3a657a81",
   "metadata": {},
   "source": [
    "## Importing Data\n",
    "\n",
    "Our first task is to import the data. We will be using the SpuCoMNIST dataset which augments spurious correlations on the dataset by changing sections of the background to be a certain color for a specific class."
   ]
  },
  {
   "cell_type": "code",
   "execution_count": 1,
   "id": "159a0a00",
   "metadata": {},
   "outputs": [
    {
     "name": "stdout",
     "output_type": "stream",
     "text": [
      "Train data size: 48004, Test data size: 10000\n"
     ]
    }
   ],
   "source": [
    "import torch\n",
    "import numpy as np\n",
    "import matplotlib.pyplot as plt\n",
    "\n",
    "from spuco.datasets import SpuCoMNIST, SpuriousFeatureDifficulty\n",
    "\n",
    "classes = [[i] for i in range(10)]  \n",
    "difficulty = SpuriousFeatureDifficulty.MAGNITUDE_LARGE\n",
    "\n",
    "train_data = SpuCoMNIST(root=\"./data_train/\",\n",
    "    spurious_feature_difficulty=difficulty,\n",
    "    classes=classes,\n",
    "    spurious_correlation_strength=0.9,\n",
    "    split=\"train\",\n",
    "    download=True,)\n",
    "\n",
    "train_data.initialize()\n",
    "\n",
    "test_data = SpuCoMNIST(root=\"./data_test/\",\n",
    "    spurious_feature_difficulty=difficulty,\n",
    "    classes=classes,\n",
    "    split=\"test\",\n",
    "    download=True,)\n",
    "\n",
    "test_data.initialize()\n",
    "\n",
    "print(f\"Train data size: {len(train_data)}, Test data size: {len(test_data)}\")"
   ]
  },
  {
   "cell_type": "markdown",
   "id": "12c8de8e",
   "metadata": {},
   "source": [
    "Here is a visual of some of our data samples:"
   ]
  },
  {
   "cell_type": "code",
   "execution_count": 2,
   "id": "65c3c4fd",
   "metadata": {},
   "outputs": [
    {
     "data": {
      "image/png": "[encoded data removed]",
      "text/plain": [
       "<Figure size 1200x500 with 10 Axes>"
      ]
     },
     "metadata": {},
     "output_type": "display_data"
    }
   ],
   "source": [
    "import torchvision.transforms as T\n",
    "\n",
    "fig, axs = plt.subplots(2, 5, figsize=(12, 5))\n",
    "for i, ax in enumerate(axs.flatten()):\n",
    "    image, _ = train_data[i]\n",
    "    ax.imshow(T.ToPILImage()(image))\n",
    "    ax.axis(\"off\")\n",
    "plt.tight_layout()\n",
    "plt.show()"
   ]
  },
  {
   "cell_type": "markdown",
   "id": "a00ff70a",
   "metadata": {},
   "source": [
    "## Training ERM Model\n",
    "\n",
    "In this section we will train a basic model that utilizes an Empirical Risk Minimization (ERM) principle i.e., we maximize the average performance. Since we are working with an image dataset, we select the LeNet architecture as it is the most suitable for our purposes."
   ]
  },
  {
   "cell_type": "code",
   "execution_count": 3,
   "id": "fc773212",
   "metadata": {},
   "outputs": [
    {
     "name": "stderr",
     "output_type": "stream",
     "text": [
      "/Users/artemkiryukhin/anaconda3/lib/python3.11/site-packages/transformers/utils/generic.py:260: UserWarning: torch.utils._pytree._register_pytree_node is deprecated. Please use torch.utils._pytree.register_pytree_node instead.\n",
      "  torch.utils._pytree._register_pytree_node(\n"
     ]
    }
   ],
   "source": [
    "import torch\n",
    "from torch import optim\n",
    "from spuco.models import model_factory \n",
    "from spuco.utils import Trainer\n",
    "\n",
    "num_classes = len(classes)\n",
    "input_shape = train_data[0][0].shape\n",
    "device = \"cuda\" if torch.cuda.is_available() else \"cpu\"\n",
    "\n",
    "leNet_model = model_factory(\"lenet\", input_shape, num_classes, pretrained=False)\n",
    "optimizer = optim.Adam(leNet_model.parameters(), lr=0.001)\n",
    "\n",
    "erm = Trainer(train_data,leNet_model, batch_size=128, optimizer=optimizer, device=device, verbose=0) # default loss is CrossEntropyLoss\n",
    "erm.train(5)"
   ]
  },
  {
   "cell_type": "markdown",
   "id": "93df1d35",
   "metadata": {},
   "source": [
    "And here we will use the `Evaluator` class provided by the SpuCo library to see how our base model performs."
   ]
  },
  {
   "cell_type": "code",
   "execution_count": 4,
   "id": "041e4cdf",
   "metadata": {},
   "outputs": [
    {
     "name": "stderr",
     "output_type": "stream",
     "text": [
      "Evaluating group-wise accuracy: 100%|██████████| 100/100 [19:42<00:00, 11.83s/it]"
     ]
    },
    {
     "name": "stdout",
     "output_type": "stream",
     "text": [
      "ERM = 96.36147994655153 | Worst = ((9, 4), 25.742574257425744)\n"
     ]
    },
    {
     "name": "stderr",
     "output_type": "stream",
     "text": [
      "\n"
     ]
    }
   ],
   "source": [
    "from spuco.evaluate import Evaluator\n",
    "\n",
    "true_gp = test_data.group_partition\n",
    "true_wt = train_data.group_weights  \n",
    "\n",
    "ev_erm = Evaluator(testset=test_data, group_partition=true_gp, group_weights=true_wt,\n",
    "                   batch_size=32, model=leNet_model, device=device, verbose=0)\n",
    "ev_erm.evaluate()\n",
    "print(f\"ERM = {ev_erm.average_accuracy} | Worst = {ev_erm.worst_group_accuracy}\")"
   ]
  },
  {
   "cell_type": "markdown",
   "id": "e375f680",
   "metadata": {},
   "source": [
    "## Clustering Subclasses\n",
    "\n",
    "Now we can move on to finding the subclasses of each superclass in the model. We utilize the base model's representations as the vectors for our clustering. In the paper, UMAP was used first, so we will replicate that process as well. There are parameters to tune for UMAP, but this is a topic outside the scope of this notebook. \n",
    "\n",
    "After we perform the UMAP transformation, we iterate through every class and perform K-means clustering within that class. To select *k*, we once again mimic the paper's suggestions and use a silhouette score to automatically find the best *k* value. After that is done, we store the subclasses and the indices of the examples that get clustered to the subclass in a dictionary: `{(class_label, subclass_id) : List of subclass element id's}` "
   ]
  },
  {
   "cell_type": "code",
   "execution_count": 5,
   "id": "22500c09",
   "metadata": {},
   "outputs": [
    {
     "name": "stdout",
     "output_type": "stream",
     "text": [
      "UMAP embedding shape: (48004, 10)\n"
     ]
    },
    {
     "name": "stderr",
     "output_type": "stream",
     "text": [
      "/Users/artemkiryukhin/anaconda3/lib/python3.11/site-packages/threadpoolctl.py:1226: RuntimeWarning: \n",
      "Found Intel OpenMP ('libiomp') and LLVM OpenMP ('libomp') loaded at\n",
      "the same time. Both libraries are known to be incompatible and this\n",
      "can cause random crashes or deadlocks on Linux when loaded in the\n",
      "same Python program.\n",
      "Using threadpoolctl may cause crashes or deadlocks. For more\n",
      "information and possible workarounds, please see\n",
      "    https://github.com/joblib/threadpoolctl/blob/master/multiple_openmp.md\n",
      "\n",
      "  warnings.warn(msg, RuntimeWarning)\n"
     ]
    }
   ],
   "source": [
    "from umap.umap_ import UMAP\n",
    "from spuco.group_inference import Cluster, ClusterAlg\n",
    "\n",
    "Z = erm.get_trainset_outputs(features=True)\n",
    "Z_umap = UMAP(n_neighbors=10, min_dist=0.1, n_components=10).fit_transform(Z)\n",
    "print(f\"UMAP embedding shape: {Z_umap.shape}\")\n",
    "labels = [train_data[i][1] for i in range(len(train_data))]  \n",
    "\n",
    "group_partition = {}\n",
    "for label in set(labels):\n",
    "    label_indices = [i for i, y in enumerate(labels) if y == label]\n",
    "    Z_label = Z_umap[label_indices]\n",
    "\n",
    "    clusterer = Cluster(\n",
    "        Z=Z_label,\n",
    "        cluster_alg=ClusterAlg.KMEANS,\n",
    "        max_clusters=12,       \n",
    "        device=device,\n",
    "        verbose=0\n",
    "    )\n",
    "    partition, sil_score = clusterer.silhouette(Z_label)  \n",
    "\n",
    "    for subclass_id, local_indices in partition.items():\n",
    "        global_indices = [label_indices[j] for j in local_indices]\n",
    "        group_partition[(label, subclass_id)] = global_indices"
   ]
  },
  {
   "cell_type": "markdown",
   "id": "2b8f26f2",
   "metadata": {},
   "source": [
    "We can print how many subclasses we now have."
   ]
  },
  {
   "cell_type": "code",
   "execution_count": 6,
   "id": "12da306f",
   "metadata": {},
   "outputs": [
    {
     "name": "stdout",
     "output_type": "stream",
     "text": [
      "Identified 42 groups.\n",
      "dict_keys([(0, 0), (0, 2), (0, 1), (1, 1), (1, 2), (1, 0), (2, 0), (2, 1), (2, 2), (2, 3), (3, 0), (3, 2), (3, 3), (3, 1), (3, 4), (4, 0), (4, 3), (4, 1), (4, 2), (5, 2), (5, 0), (5, 3), (5, 4), (5, 1), (5, 5), (6, 0), (6, 4), (6, 3), (6, 2), (6, 1), (7, 0), (7, 2), (7, 3), (7, 1), (8, 0), (8, 1), (8, 2), (9, 1), (9, 2), (9, 4), (9, 3), (9, 0)])\n"
     ]
    }
   ],
   "source": [
    "print(f\"Identified {len(group_partition)} groups.\")\n",
    "print(group_partition.keys())"
   ]
  },
  {
   "cell_type": "markdown",
   "id": "c9efe9c6",
   "metadata": {},
   "source": [
    "## Training with Group Balancing\n",
    "\n",
    "We will now retrain the model using group balancing sampling. While this is still an ERM based method, the use of our subclasses and the fact that all the training samples appear at the same frequency makes it so the model is encouraged to not sacrifice performance on any subset of our dataset. The implementation is easy with the SpuCo library."
   ]
  },
  {
   "cell_type": "code",
   "execution_count": 7,
   "id": "f908f055",
   "metadata": {},
   "outputs": [],
   "source": [
    "from spuco.robust_train import GroupBalanceBatchERM\n",
    "\n",
    "leNet_model_subclasses = model_factory(\"lenet\", input_shape, num_classes, pretrained=False)\n",
    "optimizer = optim.Adam(leNet_model_subclasses.parameters(), lr=0.001)\n",
    "\n",
    "groupBalanced = GroupBalanceBatchERM(\n",
    "    model=leNet_model_subclasses,\n",
    "    trainset=train_data,\n",
    "    group_partition=group_partition,  \n",
    "    batch_size=128,                    \n",
    "    optimizer=optimizer,\n",
    "    num_epochs=5,\n",
    "    device=device,\n",
    "    verbose=0,\n",
    ")\n",
    "groupBalanced.train()"
   ]
  },
  {
   "cell_type": "markdown",
   "id": "9a69742f",
   "metadata": {},
   "source": [
    "And to evaluate our new model."
   ]
  },
  {
   "cell_type": "code",
   "execution_count": 8,
   "id": "5578b039",
   "metadata": {},
   "outputs": [
    {
     "name": "stderr",
     "output_type": "stream",
     "text": [
      "Evaluating group-wise accuracy: 100%|██████████| 100/100 [19:37<00:00, 11.77s/it]"
     ]
    },
    {
     "name": "stdout",
     "output_type": "stream",
     "text": [
      "Avg = 97.41042940721277 | Worst = ((7, 1), 87.37864077669903)\n"
     ]
    },
    {
     "name": "stderr",
     "output_type": "stream",
     "text": [
      "\n"
     ]
    }
   ],
   "source": [
    "ev_gb = Evaluator(\n",
    "    testset=test_data,\n",
    "    group_partition=test_data.group_partition,\n",
    "    group_weights=train_data.group_weights,\n",
    "    batch_size=128,\n",
    "    model=leNet_model_subclasses,\n",
    "    device=device,\n",
    "    verbose=0,\n",
    ")\n",
    "ev_gb.evaluate()\n",
    "print(f\"Avg = {ev_gb.average_accuracy} | Worst = {ev_gb.worst_group_accuracy}\")"
   ]
  },
  {
   "cell_type": "markdown",
   "id": "130a77a1",
   "metadata": {},
   "source": [
    "## GDRO Model\n",
    "\n",
    "Although not a part of the application assignment, I wanted to replicate the use of GDRO as done in the paper. The GDRO loss aims to minimize the loss of the worst group by changing the weights of how much each group's loss contributes to the cost function. "
   ]
  },
  {
   "cell_type": "code",
   "execution_count": 9,
   "id": "f3fa6d93",
   "metadata": {},
   "outputs": [],
   "source": [
    "from spuco.datasets import GroupLabeledDatasetWrapper\n",
    "from spuco.robust_train import GroupDRO\n",
    "\n",
    "subclasses_trainset = GroupLabeledDatasetWrapper(train_data, group_partition)\n",
    "leNet_model_GRO = model_factory(\"lenet\", input_shape, num_classes, pretrained=False)\n",
    "optimizer = optim.Adam(leNet_model_GRO.parameters(), lr=0.001)\n",
    "\n",
    "gdro = GroupDRO(\n",
    "    model=leNet_model_GRO,\n",
    "    trainset=subclasses_trainset,\n",
    "    batch_size=128,     \n",
    "    optimizer=optimizer,\n",
    "    num_epochs=5,\n",
    "    device=device,\n",
    "    verbose=0,\n",
    ")\n",
    "gdro.train()"
   ]
  },
  {
   "cell_type": "code",
   "execution_count": 10,
   "id": "d4c7ac63",
   "metadata": {},
   "outputs": [
    {
     "name": "stderr",
     "output_type": "stream",
     "text": [
      "Evaluating group-wise accuracy: 100%|██████████| 100/100 [22:25<00:00, 13.46s/it]"
     ]
    },
    {
     "name": "stdout",
     "output_type": "stream",
     "text": [
      "Avg = 96.75315085181579 | Worst = ((2, 9), 88.3495145631068)\n"
     ]
    },
    {
     "name": "stderr",
     "output_type": "stream",
     "text": [
      "\n"
     ]
    }
   ],
   "source": [
    "ev_gdro = Evaluator(\n",
    "    testset=test_data,\n",
    "    group_partition=test_data.group_partition,\n",
    "    group_weights=train_data.group_weights,\n",
    "    batch_size=128,\n",
    "    model=leNet_model_GRO,\n",
    "    device=device,\n",
    "    verbose=0,\n",
    ")\n",
    "ev_gdro.evaluate()\n",
    "print(f\"Avg = {ev_gdro.average_accuracy} | Worst = {ev_gdro.worst_group_accuracy}\")"
   ]
  },
  {
   "cell_type": "markdown",
   "id": "0c8d6dca",
   "metadata": {},
   "source": [
    "## Visuals and Conclusions\n",
    "\n",
    "As we can see our implementation of the **GEORGE** framework has worked. The worst group accuracy for the Group-Balanced and the GDRO has increased by about 61% and 62% compared to the base ERM training. In addition, we even saw a tiny increase in the average accuracy in both of the subclass training methods."
   ]
  },
  {
   "cell_type": "code",
   "execution_count": 17,
   "id": "6549ee43",
   "metadata": {},
   "outputs": [
    {
     "data": {
      "image/png": "[encoded data removed]",
      "text/plain": [
       "<Figure size 640x480 with 1 Axes>"
      ]
     },
     "metadata": {},
     "output_type": "display_data"
    }
   ],
   "source": [
    "names = [\"Avg\", \"Worst\"]\n",
    "\n",
    "erm_vals   = [ev_erm.average_accuracy, ev_erm.worst_group_accuracy[1]]\n",
    "gb_vals    = [ev_gb.average_accuracy,  ev_gb.worst_group_accuracy[1]]\n",
    "gdro_vals  = [ev_gdro.average_accuracy, ev_gdro.worst_group_accuracy[1]]\n",
    "\n",
    "x = np.arange(2)\n",
    "w = 0.25\n",
    "\n",
    "plt.bar(x - w, erm_vals, width=w, label=\"ERM baseline\")\n",
    "plt.bar(x, gb_vals, width=w, label=\"Subclass ERM (Group-Balanced)\")\n",
    "plt.bar(x + w, gdro_vals, width=w, label=\"Subclass GDRO\")\n",
    "\n",
    "plt.xticks(x, names)\n",
    "plt.ylabel(\"Accuracy\")\n",
    "plt.xlabel(\"Loss Type\")\n",
    "plt.title(\"Vanilla ERM vs GEORGE\")\n",
    "plt.legend(loc=\"lower left\", fontsize=\"small\")\n",
    "plt.tight_layout()\n",
    "plt.show()"
   ]
  }
 ],
 "metadata": {
  "kernelspec": {
   "display_name": "base",
   "language": "python",
   "name": "python3"
  },
  "language_info": {
   "codemirror_mode": {
    "name": "ipython",
    "version": 3
   },
   "file_extension": ".py",
   "mimetype": "text/x-python",
   "name": "python",
   "nbconvert_exporter": "python",
   "pygments_lexer": "ipython3",
   "version": "3.11.5"
  }
 },
 "nbformat": 4,
 "nbformat_minor": 5
}
